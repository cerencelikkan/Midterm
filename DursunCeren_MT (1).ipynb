{
 "cells": [
  {
   "cell_type": "markdown",
   "metadata": {
    "id": "FxwvfFGonNeg"
   },
   "source": [
    "***Ceren Dursun- 202151056001*** \n",
    "\n",
    "# ***Question 1***\n"
   ]
  },
  {
   "cell_type": "code",
   "execution_count": 10,
   "metadata": {
    "id": "f3vQAdUwnJF8"
   },
   "outputs": [],
   "source": [
    "#a\n",
    "def f(x):\n",
    "    return x\n",
    "def rootfinder(f,a,b):\n",
    "    if(a>b):\n",
    "        return\n",
    "    midpoint = (a+b)/2\n",
    "    if(f(midpoint) == 0):\n",
    "        return midpoint\n",
    "    if(f(midpoint) < 0):\n",
    "        return rootfinder(f,midpoint,b)\n",
    "    if(f(mid_value) > 0):\n",
    "        return rootfinder(f,a,midpoint)\n"
   ]
  },
  {
   "cell_type": "code",
   "execution_count": 11,
   "metadata": {},
   "outputs": [],
   "source": [
    "#b\n",
    "def rootfinder(f,a,b):\n",
    "    if (f(a) == f(b)):\n",
    "        c = f(a)\n",
    "        return c"
   ]
  },
  {
   "cell_type": "code",
   "execution_count": 12,
   "metadata": {},
   "outputs": [],
   "source": [
    "#c\n",
    "def rootfinder(f,a,b):\n",
    "    if f(a) > 0 and f(b) > 0:\n",
    "        print (\"function evals have the same sign\")\n",
    "    elif f(a) < 0 and f(b) < 0:\n",
    "        print (\"function evals have the same sign\")\n",
    "    elif (f(a) == f(b)):\n",
    "        c = f(a)\n",
    "        return c"
   ]
  },
  {
   "cell_type": "markdown",
   "metadata": {
    "id": "5uCu-YuKnKAD"
   },
   "source": [
    "# ***Question 2***"
   ]
  },
  {
   "cell_type": "code",
   "execution_count": 16,
   "metadata": {
    "id": "keeU_odNni-V"
   },
   "outputs": [
    {
     "name": "stdout",
     "output_type": "stream",
     "text": [
      "4.98332269234902\n"
     ]
    }
   ],
   "source": [
    "import numpy as np\n",
    "def nearest(z: int, A: np.ndarray):\n",
    "    \n",
    "    result = A[np.fabs(A - z).argmin()]\n",
    "    \n",
    "    return result\n"
   ]
  },
  {
   "cell_type": "markdown",
   "metadata": {
    "id": "TrGKl4WHnjPN"
   },
   "source": [
    "# ***Question 3***"
   ]
  },
  {
   "cell_type": "code",
   "execution_count": 19,
   "metadata": {
    "id": "VdS431RSnnVJ"
   },
   "outputs": [],
   "source": [
    "class Node:\n",
    "    def __init__(self, val=None):\n",
    "        self.left = None\n",
    "        self.right = None\n",
    "        self.val = val\n",
    "\n",
    "    def insert(self, val):\n",
    "        if not self.val:\n",
    "            self.val = val\n",
    "            return\n",
    "\n",
    "        if self.val == val:\n",
    "            return\n",
    "\n",
    "        if val < self.val:\n",
    "            if self.left:\n",
    "                self.left.insert(val)\n",
    "                return\n",
    "            self.left = Node(val)\n",
    "            return\n",
    "\n",
    "        if self.right:\n",
    "            self.right.insert(val)\n",
    "            return\n",
    "        self.right = Node(val)\n",
    "\n",
    "    def exists(self, val):\n",
    "        if val == self.val:\n",
    "            return True\n",
    "\n",
    "        if val < self.val:\n",
    "            if self.left == None:\n",
    "                return False\n",
    "            return self.left.exists(val)\n",
    "\n",
    "        if self.right == None:\n",
    "            return False\n",
    "        \n",
    "        return self.right.exists(val)\n",
    "    \n",
    "    def inorder(self, vals):\n",
    "        if self.left is not None:\n",
    "            self.left.inorder(vals)\n",
    "        if self.val is not None:\n",
    "            vals.append(self.val)\n",
    "        if self.right is not None:\n",
    "            self.right.inorder(vals)\n",
    "        return vals\n"
   ]
  },
  {
   "cell_type": "markdown",
   "metadata": {
    "id": "YcrZQQiInnkZ"
   },
   "source": [
    "# ***Question 4***"
   ]
  },
  {
   "cell_type": "code",
   "execution_count": 23,
   "metadata": {
    "id": "5Bpr1MAlnp81"
   },
   "outputs": [
    {
     "name": "stdout",
     "output_type": "stream",
     "text": [
      "     fun: 0.0\n",
      "    nfev: 48\n",
      "     nit: 35\n",
      " success: True\n",
      "       x: 45.36068049995748\n"
     ]
    }
   ],
   "source": [
    "from scipy import optimize,e\n",
    "\n",
    "def f(x):\n",
    "    y=np.power(np.sin(x-2),2) * (e**-x**2)\n",
    "    return y\n",
    "\n",
    "sol=optimize.minimize_scalar(f)\n",
    "print(sol)\n"
   ]
  },
  {
   "cell_type": "markdown",
   "metadata": {
    "id": "-eIsFKMKnqOT"
   },
   "source": [
    "# ***Question 5***"
   ]
  },
  {
   "cell_type": "code",
   "execution_count": 5,
   "metadata": {
    "id": "k2DS_ok7nrop"
   },
   "outputs": [
    {
     "name": "stdout",
     "output_type": "stream",
     "text": [
      "[1.12581828 1.28040172 0.86189288 1.14543934 1.05353318 1.03283604\n",
      " 0.93061737 0.89731215 1.16392455 1.06602803 1.04274386 0.28138606\n",
      " 0.80371078 0.97203408 1.17898516 0.8307087  0.78607118 1.15748236\n",
      " 1.24956889 1.16385157 1.3292609  0.55543992 1.09797732 1.40887161\n",
      " 1.02469172 1.33269686 1.17893302 1.08331342 0.91415121 0.73755461\n",
      " 0.97017729 1.09385375 1.35944463 0.99716584 0.77161346 0.46924809\n",
      " 1.07730503 0.66641637 1.09878464 1.18205777 0.47916806 0.87790787\n",
      " 0.91166247 1.40835511 0.72223416]\n"
     ]
    }
   ],
   "source": [
    "from scipy.spatial.distance import pdist\n",
    "import numpy as np\n",
    "import scipy\n",
    "m,n = 10, 5\n",
    "X = np.random.rand(m,n)\n",
    "print(pdist(X))"
   ]
  },
  {
   "cell_type": "markdown",
   "metadata": {
    "id": "wfXSIHDZnr6F"
   },
   "source": [
    "# ***Question 6***"
   ]
  },
  {
   "cell_type": "code",
   "execution_count": 31,
   "metadata": {
    "id": "aLXid6B6nuXV"
   },
   "outputs": [
    {
     "data": {
      "image/png": "[encoded data removed]",
      "text/plain": [
       "<Figure size 432x288 with 1 Axes>"
      ]
     },
     "metadata": {
      "needs_background": "light"
     },
     "output_type": "display_data"
    }
   ],
   "source": [
    "import matplotlib.pyplot as plt\n",
    "import numpy as np\n",
    "import seaborn as sns\n",
    "X = np.random.random_sample((20, 10)) * 10\n",
    "b = np.random.random(10) * 3 - 1.5\n",
    "z = np.random.normal((20,))\n",
    "y = X.dot(b) + z\n",
    "b_ = np.array(np.linalg.lstsq(X, y, rcond=-1)[0])\n",
    "x = np.arange(0, 10)\n",
    "f, ax = plt.subplots()\n",
    "ax.plot(x, b, 'rx', label='True coefficients')\n",
    "ax.plot(x, b_, 'bo', label='Estimated coefficients')\n",
    "plt.show()\n"
   ]
  },
  {
   "cell_type": "code",
   "execution_count": null,
   "metadata": {},
   "outputs": [],
   "source": []
  }
 ],
 "metadata": {
  "colab": {
   "collapsed_sections": [],
   "name": "DursunCeren_MT.ipynb",
   "provenance": []
  },
  "kernelspec": {
   "display_name": "Python 3",
   "language": "python",
   "name": "python3"
  },
  "language_info": {
   "codemirror_mode": {
    "name": "ipython",
    "version": 3
   },
   "file_extension": ".py",
   "mimetype": "text/x-python",
   "name": "python",
   "nbconvert_exporter": "python",
   "pygments_lexer": "ipython3",
   "version": "3.8.8"
  }
 },
 "nbformat": 4,
 "nbformat_minor": 1
}
